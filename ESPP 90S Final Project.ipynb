{
 "cells": [
  {
   "cell_type": "markdown",
   "metadata": {},
   "source": [
    "## ESPP 90S Final Project: Ammonia x Wind\n",
    "### Alaisha Sharma and Rowen VonPlagenhoef"
   ]
  },
  {
   "cell_type": "code",
   "execution_count": null,
   "metadata": {
    "collapsed": true
   },
   "outputs": [],
   "source": [
    "import numpy as np"
   ]
  },
  {
   "cell_type": "markdown",
   "metadata": {},
   "source": [
    "#### PARAMETERS"
   ]
  },
  {
   "cell_type": "code",
   "execution_count": null,
   "metadata": {
    "collapsed": true
   },
   "outputs": [],
   "source": [
    "# Lifetime of plant in yr\n",
    "life_wind = 30\n",
    "life_ammonia = 15\n",
    "\n",
    "# WIND FARM\n",
    "\n",
    "# Wind turbine size in kW\n",
    "size_turbine = 2000\n",
    "# Number of wind turbines\n",
    "num_turbines = 20\n",
    "# Wind farm capacity factor\n",
    "capacity = 0.40\n",
    "# Cost of wind power generation in $ / kW\n",
    "cost_wind = 1400\n",
    "\n",
    "# AMMONIA SYNTHESIS\n",
    "\n",
    "# Daily production of ammonia\n",
    "ammonia_output_daily = None\n",
    "# Cost of input water in $ / ton H2O\n",
    "cost_water = 1.064\n",
    "# Energy usage of electrolyzers in kWh / ton NH3\n",
    "energy_alkaline_electrolyzer = 62\n",
    "energy_PEM_electrolyzer = 60\n",
    "# Cost of nitrogen air separator in $-day / ton N2\n",
    "cost_air_separator = 57119\n",
    "# Cost of ammonia synthesizer in $-day / ton NH3\n",
    "cost_synthesizer = 127327\n",
    "# Cost of air compressor in $ \n",
    "cost_compressor = 1e6\n",
    "\n",
    "# STORAGE\n",
    "\n",
    "# Cost of ammonia storage in $ / ton\n",
    "cost_storage_NH3 = 857\n",
    "# Cost of hydrogen storage in $ / ton\n",
    "cost_storage_H2 = None\n",
    "# Cost of oxygen storage in $ / ton\n",
    "cost_storage_O2 = None\n",
    "# Cost of nitrogen storage in $ / ton\n",
    "cost_storage_N2 = None\n",
    "\n",
    "# CARBON EMISSIONS\n",
    "\n",
    "# Carbon emissions of Haber Bosch process in tons CO2 / tons NH3\n",
    "co2_haber_bosch = None\n",
    "# Carbon emissions of fossil fuel electricity generation in tons CO2 / kW\n",
    "co2_fossil_electricity = None\n",
    "# Energy usage of traditional ammonia plant in kWh / ton NH3\n",
    "energy_fossil_ammonia = None\n",
    "\n",
    "# OTHER\n",
    "interest_rate = 0.03\n",
    "labor_fraction = 0.15"
   ]
  },
  {
   "cell_type": "markdown",
   "metadata": {},
   "source": [
    "#### FUNCTIONS"
   ]
  },
  {
   "cell_type": "code",
   "execution_count": null,
   "metadata": {
    "collapsed": true
   },
   "outputs": [],
   "source": [
    "def calc_wind_power_output():\n",
    "    # kWh / yr\n",
    "    return size_turbine*num_turbines*capacity_factor*8760"
   ]
  },
  {
   "cell_type": "code",
   "execution_count": null,
   "metadata": {
    "collapsed": true
   },
   "outputs": [],
   "source": [
    "def calc_levelized_cost_wind():\n",
    "    # yr\n",
    "    n_periods = life_wind\n",
    "    # kW * ($ / kW)\n",
    "    cost_capital = size_turbine*num_turbines*cost_wind\n",
    "    # $\n",
    "    pmt_wind = np.pmt(interest_rate, life_wind, cost_capital)\n",
    "    # kWh / yr\n",
    "    wind_power_output = calc_wind_power_output()\n",
    "    # $ / kWh\n",
    "    return pmt_wind/wind_power_output"
   ]
  },
  {
   "cell_type": "code",
   "execution_count": null,
   "metadata": {
    "collapsed": true
   },
   "outputs": [],
   "source": [
    "def calc_cost_ammonia_synthesis(cost_electricity, \n",
    "                                ammonia_output_daily):\n",
    "    H2_produced = (3/2)*ammonia_output_daily\n",
    "    N2_produced = (1/2)*ammonia_output_daily\n",
    "    # tons H2O * ($ / tons NH3)\n",
    "    cost_H2O = ammonia_output_daily*cost_water\n",
    "    # tons H2 * (kW / NH3 ton) * ($ / kW) \n",
    "    cost_H2 = H2_produced*energy_electrolyzer*cost_electricity\n",
    "    # tons N2 * ($ / NH3 ton)\n",
    "    cost_N2 = N2_produced*cost_air_separator\n",
    "    # tons NH3 * (kW / NH3 ton) * ($ / kW )\n",
    "    cost_NH3 = ammonia_output_daily*energy_compressor*cost_electricity\n",
    "    # $ * (days / yr)\n",
    "    return (cost_water+cost_H2+cost_N2+cost_NH3)*365"
   ]
  },
  {
   "cell_type": "code",
   "execution_count": null,
   "metadata": {
    "collapsed": true
   },
   "outputs": [],
   "source": [
    "def ammonia_storage_breakdown(ammonia_output_daily):\n",
    "    storage_NH3 = 30*ammonia_output_daily\n",
    "    storage_N2 = None\n",
    "    storage_H2 = None\n",
    "    storage_O2 = None\n",
    "    return storage_H2, storage_O2, storage_N2, storage_NH3"
   ]
  },
  {
   "cell_type": "code",
   "execution_count": 2,
   "metadata": {
    "collapsed": true
   },
   "outputs": [],
   "source": [
    "def calc_cost_chemical_storage(storage_H2,\n",
    "                               storage_O2,\n",
    "                               storage_N2,\n",
    "                               storage_NH3):\n",
    "    # $ / ton NH3\n",
    "    cost_H2 = storage_H2*cost_storage_H2\n",
    "    # $ / ton NH3\n",
    "    cost_O2 = storage_O2*cost_storage_O2\n",
    "    # $ / ton NH3\n",
    "    cost_N2 = storage_N2*cost_storage_N2\n",
    "    # $ / ton NH3\n",
    "    cost_NH3 = storage_NH3*cost_storage_NH3\n",
    "    # $ / ton NH3\n",
    "    return cost_H2+cost_O2+cost_N2+cost_NH3\n"
   ]
  },
  {
   "cell_type": "code",
   "execution_count": null,
   "metadata": {
    "collapsed": true
   },
   "outputs": [],
   "source": [
    "def calc_cost_ammonia_output(ammonia_output_daily):\n",
    "    # $\n",
    "    cost_synthesis = calc_cost_ammonia_synthesis(ammonia_output_daily)\n",
    "    # tons\n",
    "    H2, O2, N2, NH3 = ammonia_storage_breakdown(ammonia_output_daily)\n",
    "    # $\n",
    "    cost_storage = calc_cost_chemical_storage(H2, O2, N2, NH3)\n",
    "    # $\n",
    "    cost_labor = labor_fraction*(cost_ammonia*ammonia_output_daily+cost_storage)\n",
    "    # $\n",
    "    return cost_synthesis+cost_storage+cost_labor"
   ]
  },
  {
   "cell_type": "code",
   "execution_count": null,
   "metadata": {
    "collapsed": true
   },
   "outputs": [],
   "source": [
    "def calc_levelized_cost_ammonia():\n",
    "    # yr\n",
    "    n_periods = life_ammonia\n",
    "    # $\n",
    "    cost_capital = calc_cost_ammonia_output(ammonia_output_daily)*365\n",
    "    # $\n",
    "    pmt_ammonia = np.pmt(interest_rate, life_ammonia, cost_capital)\n",
    "    # kWh / yr\n",
    "    ammonia_output = ammonia_output_daily*365\n",
    "    # $ / kWh\n",
    "    return pmt_ammonia/ammonia_output"
   ]
  },
  {
   "cell_type": "code",
   "execution_count": null,
   "metadata": {
    "collapsed": true
   },
   "outputs": [],
   "source": [
    "def calc_co2_tax_ammonia(cost_co2, \n",
    "                         ammonia_produced):\n",
    "    # (tons CO2 / kWh) * (kWh / ton NH3)\n",
    "    co2_fossil_plant = co2_fossil_electricity*energy_fossil_ammonia\n",
    "    # (tons CO2 / tons NH3) * tons NH3\n",
    "    co2_emissions = (co2_haber_bosch+co2_fossil_plant)*ammonia_produced\n",
    "    # (tons) * ($ / tons CO2)\n",
    "    return co2_emissions*cost_co2"
   ]
  }
 ],
 "metadata": {
  "kernelspec": {
   "display_name": "Python 3",
   "language": "python",
   "name": "python3"
  },
  "language_info": {
   "codemirror_mode": {
    "name": "ipython",
    "version": 3
   },
   "file_extension": ".py",
   "mimetype": "text/x-python",
   "name": "python",
   "nbconvert_exporter": "python",
   "pygments_lexer": "ipython3",
   "version": "3.6.8"
  }
 },
 "nbformat": 4,
 "nbformat_minor": 2
}
