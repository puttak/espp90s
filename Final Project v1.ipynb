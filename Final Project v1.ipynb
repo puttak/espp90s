{
 "cells": [
  {
   "cell_type": "markdown",
   "metadata": {},
   "source": [
    "## ESPP 90S Final Project: Ammonia x Wind\n",
    "### Alaisha Sharma and Rowen VonPlagenhoef"
   ]
  },
  {
   "cell_type": "code",
   "execution_count": 47,
   "metadata": {
    "collapsed": true
   },
   "outputs": [],
   "source": [
    "import numpy as np\n",
    "import matplotlib.pyplot as plt"
   ]
  },
  {
   "cell_type": "markdown",
   "metadata": {},
   "source": [
    "### PARAMETERS"
   ]
  },
  {
   "cell_type": "markdown",
   "metadata": {},
   "source": [
    "#### Wind Facility"
   ]
  },
  {
   "cell_type": "code",
   "execution_count": 48,
   "metadata": {
    "collapsed": true
   },
   "outputs": [],
   "source": [
    "num_turbine = 20                  # --\n",
    "life_turbine = 20                 # yr\n",
    "nameplate_turbine = 2             # MW\n",
    "capacity_factor_turbine = 0.35    # --"
   ]
  },
  {
   "cell_type": "markdown",
   "metadata": {},
   "source": [
    "#### Ammonia Facility"
   ]
  },
  {
   "cell_type": "code",
   "execution_count": 49,
   "metadata": {
    "collapsed": true
   },
   "outputs": [],
   "source": [
    "life_backup = 10                 # yr \n",
    "capacity_factor_backup = 0.90    # --          \n",
    "backup_power_fraction = 0.1          # --\n",
    "ammonia_energy_usage = 11.6      # MW-hr/ton \n",
    "ammonia_diesel_energy = 4.75     # MW-hr/ton\n",
    "num_storage = 900                # --"
   ]
  },
  {
   "cell_type": "markdown",
   "metadata": {},
   "source": [
    "#### Capital Costs"
   ]
  },
  {
   "cell_type": "code",
   "execution_count": 50,
   "metadata": {
    "collapsed": true
   },
   "outputs": [],
   "source": [
    "cc_land = 225e3       # $\n",
    "cc_well = 30e3        # $\n",
    "cc_wind = 1400        # $/kW\n",
    "cc_backup = 650       # $/kW\n",
    "cc_storage = 900      # $/ton\n",
    "cc_ammonia = 1.3e6    # $/ton-day"
   ]
  },
  {
   "cell_type": "markdown",
   "metadata": {},
   "source": [
    "#### O&M Costs"
   ]
  },
  {
   "cell_type": "code",
   "execution_count": 51,
   "metadata": {
    "collapsed": true
   },
   "outputs": [],
   "source": [
    "num_worker = 50          # --\n",
    "worker_salary = 60e3     # $/yr\n",
    "om_turbine = 44          # $/kW-yr\n",
    "om_backup = 15           # $/kW-yrs\n",
    "om_ammonia = 0.133e-3    # $/ton"
   ]
  },
  {
   "cell_type": "markdown",
   "metadata": {},
   "source": [
    "#### Transportation"
   ]
  },
  {
   "cell_type": "code",
   "execution_count": 52,
   "metadata": {
    "collapsed": true
   },
   "outputs": [],
   "source": [
    "tr_hrs = 4            # hr/day\n",
    "tr_distance = 150     # km/day\n",
    "tr_cost = 0.07        # $/km\n",
    "tr_rate = 450         # kg/hr"
   ]
  },
  {
   "cell_type": "markdown",
   "metadata": {},
   "source": [
    "#### Other"
   ]
  },
  {
   "cell_type": "code",
   "execution_count": 53,
   "metadata": {
    "collapsed": true
   },
   "outputs": [],
   "source": [
    "interest_rate = 0.045    # $/yr"
   ]
  },
  {
   "cell_type": "markdown",
   "metadata": {},
   "source": [
    "### FUNCTIONS"
   ]
  },
  {
   "cell_type": "markdown",
   "metadata": {},
   "source": [
    "#### Annual Output"
   ]
  },
  {
   "cell_type": "code",
   "execution_count": 54,
   "metadata": {
    "collapsed": true
   },
   "outputs": [],
   "source": [
    "def annual_wind_output(params):\n",
    "    # --  *  MW  *  --  *  hr/yr  =  MW-hr/yr\n",
    "    return params['num_turbine']*params['nameplate_turbine']*params['capacity_factor_turbine']*8760\n",
    "\n",
    "def annual_ammonia_output(params):\n",
    "    # MW-hr/yr  *   ton/MW-hr  =  ton/yr\n",
    "    return annual_wind_output(params)/params['ammonia_energy_usage']"
   ]
  },
  {
   "cell_type": "markdown",
   "metadata": {},
   "source": [
    "#### Backup Generation"
   ]
  },
  {
   "cell_type": "code",
   "execution_count": 55,
   "metadata": {
    "collapsed": true
   },
   "outputs": [],
   "source": [
    "def backup_generation_size(params):\n",
    "    # --  *  hr/day  =  hr/day\n",
    "    hours = (1-params['capacity_factor_turbine'])*24\n",
    "    # MW-hr/yr  *  yr/day  *  --  =  MW-hr/day\n",
    "    energy = annual_wind_output(params)/365*params['backup_power_fraction']\n",
    "    # --\n",
    "    multiplier = params['life_turbine']/params['life_backup']\n",
    "    # MW-hr/day  *  day/hr  *  --  =  MW\n",
    "    return energy/hours*multiplier\n",
    "\n",
    "def daily_ammonia_fuel_backup(params):\n",
    "    # --  *  hr/day  =  hr/day\n",
    "    hours = (1-params['capacity_factor_turbine'])*24\n",
    "    # MW  *  hr/day  =  MW-hr/day\n",
    "    capacity = backup_generation_size(params)*hours\n",
    "    # MW-hr/day  *  ton/MW-hr  =  ton/day\n",
    "    return capacity/params['ammonia_diesel_energy']"
   ]
  },
  {
   "cell_type": "markdown",
   "metadata": {},
   "source": [
    "#### Capital Costs - Wind Only"
   ]
  },
  {
   "cell_type": "code",
   "execution_count": 56,
   "metadata": {
    "collapsed": true
   },
   "outputs": [],
   "source": [
    "def capital_cost_wind_only(params):\n",
    "    # --  *  MW  *  $/kW  *  kW/MW  =  $\n",
    "    return params['num_turbine']*params['nameplate_turbine']*params['cc_wind']*1e3\n",
    "\n",
    "def pmt_wind_only(params):\n",
    "    # $\n",
    "    capital = capital_cost_wind_only(params)\n",
    "    # $/yr\n",
    "    return -1*np.pmt(params['interest_rate'], params['life_turbine'], capital)\n",
    "\n",
    "def lcoe_wind_only(params):\n",
    "    # $/yr  /  (MW-hr/yr  *  kW/MW)  =  $/kW-hr\n",
    "    return pmt_wind_only(params)/(annual_wind_output(params)*1e3)"
   ]
  },
  {
   "cell_type": "markdown",
   "metadata": {},
   "source": [
    "#### Capital Costs - Wind with Ammonia"
   ]
  },
  {
   "cell_type": "code",
   "execution_count": 57,
   "metadata": {
    "collapsed": true
   },
   "outputs": [],
   "source": [
    "def capital_cost_wind_ammonia(params):\n",
    "    # $\n",
    "    wind = capital_cost_wind_only(params)\n",
    "    # $/kW  *  kW/MW  *  MW  =  $\n",
    "    backup = params['cc_backup']*1e3*backup_generation_size(params)\n",
    "    # $/ton-day  *  ton/yr  *  yr/day  =  $\n",
    "    ammonia = params['cc_ammonia']*annual_ammonia_output(params)/365\n",
    "    # $  *  --  =  $\n",
    "    storage = params['cc_storage']*params['num_storage']\n",
    "    # $\n",
    "    return params['cc_land']+params['cc_well']+wind+backup+ammonia+storage\n",
    "    \n",
    "def pmt_wind_ammonia(params):\n",
    "    # $\n",
    "    capital = capital_cost_wind_ammonia(params)\n",
    "    # $/yr\n",
    "    return -1*np.pmt(params['interest_rate'], params['life_turbine'], capital)\n",
    "\n",
    "def lcoe_wind_ammonia(params):\n",
    "    # $/yr  /  (MW-hr/yr  *  kW/MW)  =  $/kW-hr\n",
    "    return (pmt_wind_ammonia(params)+om_cost_wind_ammonia(params))/(annual_wind_output(params)*1e3)"
   ]
  },
  {
   "cell_type": "markdown",
   "metadata": {},
   "source": [
    "#### O&M Costs"
   ]
  },
  {
   "cell_type": "code",
   "execution_count": 58,
   "metadata": {
    "collapsed": true
   },
   "outputs": [],
   "source": [
    "def om_cost_workers(params):\n",
    "    # --  *  $/yr  = $/yr\n",
    "    return params['num_worker']*params['worker_salary']\n",
    "\n",
    "def om_cost_turbine(params):\n",
    "    # MW-hr/yr\n",
    "    power = annual_wind_output(params)\n",
    "    # $/kW-yr  *  MW-hr/yr  *  kW/MW  *  yr/hr  =  $/yr\n",
    "    return params['om_turbine']*power*1e3/8760\n",
    "\n",
    "def om_cost_backup(params):\n",
    "    # $/kW-yr  *  MW/kW  *  MW  =  $/yr\n",
    "    return params['om_backup']*1e3*backup_generation_size(params)\n",
    "\n",
    "def om_cost_ammonia(params):\n",
    "    # ton/yr\n",
    "    ammonia = annual_ammonia_output(params)\n",
    "    # $/ton  *  ton/yr  =  $/yr\n",
    "    return params['om_ammonia']*ammonia\n",
    "\n",
    "def om_cost_wind_ammonia(params):\n",
    "    # $\n",
    "    return om_cost_workers(params)+om_cost_turbine(params)+om_cost_ammonia(params)+om_cost_backup(params)"
   ]
  },
  {
   "cell_type": "markdown",
   "metadata": {},
   "source": [
    "#### Transportation Costs"
   ]
  },
  {
   "cell_type": "code",
   "execution_count": 59,
   "metadata": {
    "collapsed": true
   },
   "outputs": [],
   "source": [
    "def truck_transport_capacity(params):\n",
    "    # kg/hr  *  ton/kg  *  hr/day  =  ton/day\n",
    "    return params['tr_rate']*0.0011*params['tr_hrs']\n",
    "\n",
    "def number_trucks(params):\n",
    "    # ton/day\n",
    "    capacity = truck_transport_capacity(params)\n",
    "    # ton/yr\n",
    "    ammonia = annual_ammonia_output(params)\n",
    "    # ton/yr  *  yr/day  *  day/ton  =  --\n",
    "    return ammonia/365/capacity\n",
    "\n",
    "def transport_cost(params):\n",
    "    # --\n",
    "    num_truck = number_trucks(params)\n",
    "    # $/km  *  km/day  *  day/yr  *  --  =  $/yr\n",
    "    return params['tr_cost']*params['tr_distance']*365*num_truck"
   ]
  },
  {
   "cell_type": "markdown",
   "metadata": {},
   "source": [
    "#### Final Ammonia Fuel Prices"
   ]
  },
  {
   "cell_type": "code",
   "execution_count": 60,
   "metadata": {
    "collapsed": true
   },
   "outputs": [],
   "source": [
    "def production_ammonia_price(params):\n",
    "    # $/kW-hr\n",
    "    lcoe = lcoe_wind_ammonia(params)\n",
    "    # $/kW-hr  *  kW/MW  *  MW-hr/ton  =   $/ton\n",
    "    return lcoe*1e3*params['ammonia_energy_usage']\n",
    "    \n",
    "def distribution_ammonia_price(params):\n",
    "    # $/ton\n",
    "    production = production_ammonia_price(params)\n",
    "    # $/yr  *  yr/ton  =  $/ton\n",
    "    transport = transport_cost(params)/annual_ammonia_output(params)\n",
    "    # $/ton\n",
    "    return production+transport"
   ]
  },
  {
   "cell_type": "markdown",
   "metadata": {},
   "source": [
    "### CALCULATIONS"
   ]
  },
  {
   "cell_type": "code",
   "execution_count": 61,
   "metadata": {
    "collapsed": true
   },
   "outputs": [],
   "source": [
    "params_baseline = {\n",
    "    'num_turbine': 20,\n",
    "    'life_turbine': 20,\n",
    "    'nameplate_turbine': 2,\n",
    "    'capacity_factor_turbine': 0.35,\n",
    "    'life_backup': 10,\n",
    "    'capacity_factor_backup': 0.90,\n",
    "    'backup_power_fraction': 0.1,\n",
    "    'ammonia_energy_usage': 11.6,\n",
    "    'ammonia_diesel_energy': 4.75,\n",
    "    'num_storage': 900,\n",
    "    'cc_land': 225e3,\n",
    "    'cc_well': 30e3,\n",
    "    'cc_wind': 1400,\n",
    "    'cc_backup': 650,\n",
    "    'cc_ammonia': 1.3e6,\n",
    "    'cc_storage': 900,\n",
    "    'num_worker': 50,\n",
    "    'worker_salary': 60e3,\n",
    "    'om_turbine': 44,\n",
    "    'om_backup': 15,\n",
    "    'om_ammonia': 0.133e-3,\n",
    "    'tr_hrs': 4,\n",
    "    'tr_distance': 150,\n",
    "    'tr_cost': 0.07,\n",
    "    'tr_rate': 450,\n",
    "    'interest_rate': 0.045\n",
    "}"
   ]
  },
  {
   "cell_type": "code",
   "execution_count": 77,
   "metadata": {},
   "outputs": [
    {
     "name": "stdout",
     "output_type": "stream",
     "text": [
      "\n",
      "BASELINE CALCULATIONS FOR WIND + AMMONIA PLANT:\n",
      "-----------------------------------------------\n",
      "\n",
      "Output of wind plant: 122640 MW/yr \n",
      "\n",
      "Output of ammonia plant: 10572 tons/yr \n",
      "\n",
      "\n",
      "Size of backup generator required: 4.3 MW \n",
      "\n",
      "\n",
      "Total capital costs of only wind plant: 56.0 million USD \n",
      "\n",
      "Total capital costs of wind and ammonia plant: 97.5 million USD\n",
      "\n",
      "\n",
      "PMT costs of wind plant: 4.31 million USD/yr \n",
      "\n",
      "PMT costs of wind and ammonia plant: 7.50 million USD/yr \n",
      "\n",
      "\n",
      "LCOE of wind plant: 0.035 USD/kWh \n",
      "\n",
      "LCOE of wind and ammonia plant: 0.091 USD/yr \n",
      "\n",
      "\n",
      "Transport cost of ammonia: 56066 USD/yr \n",
      "\n",
      "\n",
      "Production cost of ammonia fuel: 1057.24 $/ton \n",
      "\n",
      "Distribution cost of ammonia fuel: 1062.54 $/ton \n",
      "\n"
     ]
    }
   ],
   "source": [
    "print()\n",
    "print(\"BASELINE CALCULATIONS FOR WIND + AMMONIA PLANT:\")\n",
    "print(\"-\" * 47 + \"\\n\")\n",
    "print(\"Output of wind plant: {} MW/yr \\n\".format(round(annual_wind_output(params_baseline))))\n",
    "print(\"Output of ammonia plant: {} tons/yr \\n\".format(round(annual_ammonia_output(params_baseline)))) \n",
    "print()\n",
    "print(\"Size of backup generator required: {:.1f} MW \\n\".format(backup_generation_size(params_baseline)))\n",
    "print()\n",
    "print(\"Total capital costs of only wind plant: {:.1f} million USD \\n\".format(capital_cost_wind_only(params_baseline)/1e6))\n",
    "print(\"Total capital costs of wind and ammonia plant: {:.1f} million USD\\n\".format(capital_cost_wind_ammonia(params_baseline)/1e6))\n",
    "print()\n",
    "print(\"PMT costs of wind plant: {:.2f} million USD/yr \\n\".format(pmt_wind_only(params_baseline)/1e6))\n",
    "print(\"PMT costs of wind and ammonia plant: {:.2f} million USD/yr \\n\".format(pmt_wind_ammonia(params_baseline)/1e6))\n",
    "print()\n",
    "print(\"LCOE of wind plant: {:.3f} USD/kWh \\n\".format(lcoe_wind_only(params_baseline)))\n",
    "print(\"LCOE of wind and ammonia plant: {:.3f} USD/yr \\n\".format(lcoe_wind_ammonia(params_baseline)))\n",
    "print()\n",
    "print(\"Transport cost of ammonia: {} USD/yr \\n\".format(round(transport_cost(params_baseline))))\n",
    "print()\n",
    "print(\"Production cost of ammonia fuel: {:.2f} $/ton \\n\".format(production_ammonia_price(params_baseline)))\n",
    "print(\"Distribution cost of ammonia fuel: {:.2f} $/ton \\n\".format(distribution_ammonia_price(params_baseline)))"
   ]
  },
  {
   "cell_type": "markdown",
   "metadata": {},
   "source": [
    "### GRAPHS"
   ]
  },
  {
   "cell_type": "markdown",
   "metadata": {},
   "source": [
    "#### Cost Multipliers"
   ]
  },
  {
   "cell_type": "code",
   "execution_count": null,
   "metadata": {
    "collapsed": true
   },
   "outputs": [],
   "source": [
    "def apply_multipliers_param(params, param_names, multipliers):\n",
    "    params_multiplied = []\n",
    "    for m in multipliers:\n",
    "        params_m = params.copy()\n",
    "        for p in param_names:\n",
    "            params_m[param_name] *= m\n",
    "        params_multiplied.append(params_m)\n",
    "    return params_multiplied\n",
    "\n",
    "def data_with_multipliers(params_multiplied):\n",
    "    multipliers = np.arange(1, 2.25, 0.25)\n",
    "    wind_only = np.zeros([3, len(multipliers)])\n",
    "    wind_ammonia = np.zeros([3, len(multipliers)])\n",
    "    wind_only[0] = apply_multipliers(capital_cost_wind_only, params, multipliers)\n",
    "    wind_only[1] = apply_multipliers(pmt_wind_only, params, multipliers)\n",
    "    wind_only[2] = apply_multipliers(lcoe_wind_only, params, multipliers)\n",
    "    wind_ammonia[0] = apply_multipliers(capital_cost_wind_ammonia, params, multipliers)\n",
    "    wind_ammonia[1] = apply_multipliers(pmt_wind_ammonia, params, multipliers)\n",
    "    wind_ammonia[2] = apply_multipliers(lcoe_wind_ammonia, params, multipliers)\n",
    "    return wind_only, wind_ammonia"
   ]
  },
  {
   "cell_type": "code",
   "execution_count": null,
   "metadata": {
    "collapsed": true
   },
   "outputs": [],
   "source": [
    "fig, axs = plt.subplots(3, figsize=(8,14))\n",
    "width = 0.25\n",
    "\n",
    "x = np.arange(1, 2.25, 0.25)\n",
    "labels = list(map(str, x))\n",
    "titles = [\"Total Capital\", \"PMT\", \"LCOE\"]\n",
    "wind_only, wind_ammonia = data_cost_multipliers(params_baseline)\n",
    "\n",
    "for i in range(3):\n",
    "    ax = axs[i]\n",
    "    title = titles[i]\n",
    "    ax.bar(x, wind_only[i], width/3, label='Wind')\n",
    "    ax.bar(x+width/3, wind_ammonia[i], width/3, label='Wind+Ammonia')\n",
    "    ax.set_ylabel('USD')\n",
    "    ax.set_xticks(x)\n",
    "    ax.set_xticklabels(labels)\n",
    "    ax.set_title(title + \" Costs with Multipliers\")\n",
    "    ax.legend()\n",
    "\n",
    "fig.tight_layout()\n",
    "plt.show()"
   ]
  },
  {
   "cell_type": "markdown",
   "metadata": {},
   "source": [
    "#### Cost Breakdowns"
   ]
  },
  {
   "cell_type": "code",
   "execution_count": null,
   "metadata": {
    "collapsed": true
   },
   "outputs": [],
   "source": [
    "def capital_cost_breakdown(params, multipliers):\n",
    "    capital = np.zeros([5])\n",
    "    capital[0] = params['cc_land']*multipliers[0]\n",
    "    capital[1] = params['cc_well']*multipliers[1]\n",
    "    capital[2] = capital_cost_wind_only(params)*multipliers[2]\n",
    "    capital[3] = params['cc_ammonia']*annual_ammonia_output(params)/365*multipliers[3]\n",
    "    capital[4] = params['cc_storage']*params['num_storage']*multipliers[4]\n",
    "    return (capital, capital/np.sum(capital))\n",
    "\n",
    "def om_cost_breakdown(params, multipliers):\n",
    "    om = np.zeros([5])\n",
    "    om[0] = om_cost_workers(params)*multipliers[0]\n",
    "    om[1] = om_cost_turbine(params)*multipliers[1]\n",
    "    om[2] = om_cost_ammonia(params)*multipliers[2]\n",
    "    om[3] = om_cost_backup(params)*multipliers[3]\n",
    "    om[4] = transport_cost(params)*multipliers[4]\n",
    "    return (om, om/np.sum(om))\n",
    "\n",
    "def format_percents(percents):\n",
    "    return [\"{:.2f}%\".format(p*1e2) for p in percents]"
   ]
  },
  {
   "cell_type": "code",
   "execution_count": null,
   "metadata": {
    "collapsed": true
   },
   "outputs": [],
   "source": [
    "fig, (ax1, ax2) = plt.subplots(2, figsize=(8,12))\n",
    "width = 0.35\n",
    "\n",
    "x = np.arange(1, 6)\n",
    "multipliers_capital = np.full(5, 1)\n",
    "capital, capital_percents = capital_cost_breakdown(params_baseline, multipliers_capital)\n",
    "multipliers_om = np.full(5, 1)\n",
    "om, om_percents = om_cost_breakdown(params_baseline, multipliers_om)\n",
    "\n",
    "labels_capital = [\"Land Plot\", \"Well Installation\", \"Wind Turbines\", \"Ammonia\", \"NH3 Storage\"]\n",
    "ax1.bar(x, capital, width, color='b')\n",
    "ax1.set_title(\"Capital Cost Breakdowns\")\n",
    "ax1.set_ylabel('Cost (USD)')\n",
    "ax1.set_yscale('log')\n",
    "ax1.set_xticks(x)\n",
    "ax1.set_xticklabels(labels_capital)\n",
    "for rect, label in zip(ax1.patches, format_percents(capital_percents)):\n",
    "    height = rect.get_height()\n",
    "    ax1.text(rect.get_x() + rect.get_width()/2, height*1.05, label, ha='center', va='bottom')\n",
    "    \n",
    "labels_om = [\"Workers\", \"Wind Turbines\", \"Ammonia+Storage\", \"Backup Generators\", \"Transportation\"]\n",
    "ax2.bar(x, om, width, color='g')\n",
    "ax2.set_title(\"O&M Cost Breakdowns\")\n",
    "ax2.set_ylabel('Cost (USD)')\n",
    "ax2.set_yscale('log')\n",
    "ax2.set_xticks(x)\n",
    "ax2.set_xticklabels(labels_om)\n",
    "for rect, label in zip(ax2.patches, format_percents(om_percents)):\n",
    "    height = rect.get_height()\n",
    "    ax2.text(rect.get_x() + rect.get_width()/2, height*1.05, label, ha='center', va='bottom')\n",
    "\n",
    "fig.tight_layout()\n",
    "plt.show()"
   ]
  },
  {
   "cell_type": "markdown",
   "metadata": {},
   "source": [
    "#### Sensitivity Analysis"
   ]
  },
  {
   "cell_type": "code",
   "execution_count": null,
   "metadata": {
    "collapsed": true
   },
   "outputs": [],
   "source": [
    "def sensitivity_ammonia_prices(parameters, multipliers):\n",
    "    production_prices = np.zeros([len(parameters), len(multipliers)])\n",
    "    distribution_prices = np.zeros([len(parameters), len(multipliers)])\n",
    "    for p in range(len(parameters)):\n",
    "        params_m = params_baseline.copy()\n",
    "        print(params_m)\n",
    "        for m in range(len(multipliers)):\n",
    "            print(parameters[p], params_m[parameters[p]], params_m[parameters[p]]*multipliers[m])\n",
    "            params_m[parameters[p]] *= multipliers[m]\n",
    "            production_prices[p][m] = production_ammonia_price(params_m)\n",
    "            distribution_prices[p][m] = distribution_ammonia_price(params_m)\n",
    "    return production_prices, distribution_prices"
   ]
  },
  {
   "cell_type": "code",
   "execution_count": null,
   "metadata": {
    "collapsed": true
   },
   "outputs": [],
   "source": [
    "fig, axs = plt.subplots(8, figsize=(8,24))\n",
    "width = 0.25\n",
    "\n",
    "x = np.arange(1, 2.25, 0.25)\n",
    "labels = list(map(str, x))\n",
    "titles = [\"Well Capital\", \"Turbine Capital\", \"Ammonia Capital\", \"Storage Capital\", \"Turbine O&M\", \"Ammonia O&M\", \"Backup Generator O&M\", \"Transport\"]\n",
    "parameters = ['cc_well', 'cc_wind', 'cc_ammonia', 'cc_storage', 'om_turbine', 'om_ammonia', 'om_backup', 'tr_cost']\n",
    "production_prices, distribution_prices = sensitivity_ammonia_prices(parameters, x)\n",
    "\n",
    "for i in range(8):\n",
    "    ax = axs[i]\n",
    "    title = titles[i]\n",
    "    ax.bar(x, production_prices[i], width/3, label='Production')\n",
    "    ax.bar(x+width/3, distribution_prices[i], width/3, label='Distribution')\n",
    "    ax.set_ylabel('USD')\n",
    "    ax.set_xticks(x)\n",
    "    ax.set_xticklabels(labels)\n",
    "    ax.set_title(title + \" Costs\")\n",
    "    ax.legend(loc='lower right')\n",
    "    \n",
    "fig.tight_layout()\n",
    "fig.suptitle(\"EFFECT OF COST MULTIPLIERS\")\n",
    "fig.subplots_adjust(top=0.95)\n",
    "plt.show()"
   ]
  },
  {
   "cell_type": "code",
   "execution_count": null,
   "metadata": {
    "collapsed": true
   },
   "outputs": [],
   "source": []
  },
  {
   "cell_type": "code",
   "execution_count": null,
   "metadata": {
    "collapsed": true
   },
   "outputs": [],
   "source": []
  }
 ],
 "metadata": {
  "kernelspec": {
   "display_name": "Python 3",
   "language": "python",
   "name": "python3"
  },
  "language_info": {
   "codemirror_mode": {
    "name": "ipython",
    "version": 3
   },
   "file_extension": ".py",
   "mimetype": "text/x-python",
   "name": "python",
   "nbconvert_exporter": "python",
   "pygments_lexer": "ipython3",
   "version": "3.6.8"
  }
 },
 "nbformat": 4,
 "nbformat_minor": 2
}
